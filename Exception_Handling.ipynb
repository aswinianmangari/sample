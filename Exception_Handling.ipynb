{
  "nbformat": 4,
  "nbformat_minor": 0,
  "metadata": {
    "colab": {
      "provenance": [],
      "authorship_tag": "ABX9TyPlKtwTh0bJlHCMMdQ2nTE1",
      "include_colab_link": true
    },
    "kernelspec": {
      "name": "python3",
      "display_name": "Python 3"
    },
    "language_info": {
      "name": "python"
    }
  },
  "cells": [
    {
      "cell_type": "markdown",
      "metadata": {
        "id": "view-in-github",
        "colab_type": "text"
      },
      "source": [
        "<a href=\"https://colab.research.google.com/github/aswinianmangari/sample/blob/main/Exception_Handling.ipynb\" target=\"_parent\"><img src=\"https://colab.research.google.com/assets/colab-badge.svg\" alt=\"Open In Colab\"/></a>"
      ]
    },
    {
      "cell_type": "code",
      "execution_count": null,
      "metadata": {
        "colab": {
          "base_uri": "https://localhost:8080/",
          "height": 141
        },
        "id": "U7Sq5IgcV9go",
        "outputId": "e1307b4d-8ac0-42e0-d18e-5117153a3be6"
      },
      "outputs": [
        {
          "output_type": "error",
          "ename": "ZeroDivisionError",
          "evalue": "division by zero",
          "traceback": [
            "\u001b[0;31m---------------------------------------------------------------------------\u001b[0m",
            "\u001b[0;31mZeroDivisionError\u001b[0m                         Traceback (most recent call last)",
            "\u001b[0;32m<ipython-input-1-fad870a50e27>\u001b[0m in \u001b[0;36m<cell line: 0>\u001b[0;34m()\u001b[0m\n\u001b[0;32m----> 1\u001b[0;31m \u001b[0mprint\u001b[0m\u001b[0;34m(\u001b[0m\u001b[0;36m5\u001b[0m\u001b[0;34m/\u001b[0m\u001b[0;36m0\u001b[0m\u001b[0;34m)\u001b[0m\u001b[0;34m\u001b[0m\u001b[0;34m\u001b[0m\u001b[0m\n\u001b[0m",
            "\u001b[0;31mZeroDivisionError\u001b[0m: division by zero"
          ]
        }
      ],
      "source": [
        "print(5/0)"
      ]
    },
    {
      "cell_type": "code",
      "source": [
        "try:\n",
        "  print(5/0)\n",
        "except:\n",
        "  print(\"hello you will get an error\")"
      ],
      "metadata": {
        "colab": {
          "base_uri": "https://localhost:8080/"
        },
        "id": "sSjO8eUPWa8A",
        "outputId": "4e33ed21-ee65-4ec9-88e6-e7a99a482405"
      },
      "execution_count": null,
      "outputs": [
        {
          "output_type": "stream",
          "name": "stdout",
          "text": [
            "hello you will get an error\n"
          ]
        }
      ]
    },
    {
      "cell_type": "code",
      "source": [
        "try:\n",
        "  prin(\"7\")\n",
        "except:\n",
        "  print(\"not working\")"
      ],
      "metadata": {
        "colab": {
          "base_uri": "https://localhost:8080/"
        },
        "id": "sfAM52cIW2Kk",
        "outputId": "d708c617-4427-4464-c02e-b28b8a18dfe7"
      },
      "execution_count": null,
      "outputs": [
        {
          "output_type": "stream",
          "name": "stdout",
          "text": [
            "not working\n"
          ]
        }
      ]
    },
    {
      "cell_type": "code",
      "source": [
        "numerator = float(input(\"Enter the numerator: \"))\n",
        "denominator = float(input(\"Enter the denominator: \"))\n",
        "if denominator == 0:\n",
        "    raise ZeroDivisionError(\"Error: Denominator cannot be zero.\")\n",
        "else:\n",
        "    quotient = numerator / denominator\n",
        "    print(\"Quotient:\", quotient)"
      ],
      "metadata": {
        "colab": {
          "base_uri": "https://localhost:8080/"
        },
        "id": "qygOE1AmX0Br",
        "outputId": "b697743e-0ecf-4d5a-eb80-dd221012d0fe"
      },
      "execution_count": null,
      "outputs": [
        {
          "output_type": "stream",
          "name": "stdout",
          "text": [
            "Enter the numerator: 1\n",
            "Enter the denominator: 1\n",
            "Quotient: 1.0\n"
          ]
        }
      ]
    },
    {
      "cell_type": "code",
      "source": [
        "# Q.find diff between ---->\n",
        "# 1.exceptional handling\n",
        "# 2.throwing an expception\n",
        "# 3.catching an exception"
      ],
      "metadata": {
        "id": "u9qOnnKKYYdn"
      },
      "execution_count": null,
      "outputs": []
    },
    {
      "cell_type": "code",
      "source": [
        "#logic gates AND,OR,NOT\n",
        "#            *,+,infinty\n",
        "#            and,or,not\n",
        "#Write a programm to print 3 truth of AND,OR and NOT\n",
        "inputs=[0,1]\n",
        "print(\"X Y | X AND Y\")\n",
        "print(\"-------------\")\n",
        "for X in inputs:\n",
        "  for Y in inputs:\n",
        "    output = X and Y\n",
        "    print(f\"{X} {Y} | {output}\")"
      ],
      "metadata": {
        "colab": {
          "base_uri": "https://localhost:8080/"
        },
        "id": "U08aQLtTZYBV",
        "outputId": "80570c78-1784-4388-a6dd-98319b0ae690"
      },
      "execution_count": null,
      "outputs": [
        {
          "output_type": "stream",
          "name": "stdout",
          "text": [
            "X Y | X AND Y\n",
            "-------------\n",
            "0 0 | 0\n",
            "0 1 | 0\n",
            "1 0 | 0\n",
            "1 1 | 1\n"
          ]
        }
      ]
    },
    {
      "cell_type": "code",
      "source": [
        "inputs=[0,1]\n",
        "print(\"X Y | X OR Y\")\n",
        "print(\"-------------\")\n",
        "for X in inputs:\n",
        "  for Y in inputs:\n",
        "    output = X or Y\n",
        "    print(f\"{X} {Y} | {output}\")"
      ],
      "metadata": {
        "colab": {
          "base_uri": "https://localhost:8080/"
        },
        "id": "HUlc2zVmeCeZ",
        "outputId": "6a9e5fdd-2b28-4a47-fb2f-9580787d8bef"
      },
      "execution_count": null,
      "outputs": [
        {
          "output_type": "stream",
          "name": "stdout",
          "text": [
            "X Y | X OR Y\n",
            "-------------\n",
            "0 0 | 0\n",
            "0 1 | 1\n",
            "1 0 | 1\n",
            "1 1 | 1\n"
          ]
        }
      ]
    },
    {
      "cell_type": "code",
      "source": [
        "inputs=[0,1]\n",
        "print(\"X  |  NOT Y\")\n",
        "print(\"----------------------\")\n",
        "for X in inputs:\n",
        "    output =not X\n",
        "    print(f\"{X} | {output}\")"
      ],
      "metadata": {
        "colab": {
          "base_uri": "https://localhost:8080/"
        },
        "id": "YNIMoDWAbiGi",
        "outputId": "3ce674f4-1933-4b85-80e0-2d5828e95313"
      },
      "execution_count": null,
      "outputs": [
        {
          "output_type": "stream",
          "name": "stdout",
          "text": [
            "X  |  NOT Y\n",
            "----------------------\n",
            "0 | True\n",
            "1 | False\n"
          ]
        }
      ]
    },
    {
      "cell_type": "code",
      "source": [
        "print('|','X','|','Y','|','Z','|','X OR(Y AND Z)','|')\n",
        "for i in range(0,2):\n",
        "  for j in range(0,2):\n",
        "    for k in range(0,2):\n",
        "      d=j and k\n",
        "      e=i or d\n",
        "      print('|',i,'|',j,'|',k,'|',e,'            |')\n",
        ""
      ],
      "metadata": {
        "colab": {
          "base_uri": "https://localhost:8080/"
        },
        "id": "KkrhXJrxzhyl",
        "outputId": "06562836-5b76-4f23-a2bf-a6ff8d992f88"
      },
      "execution_count": 1,
      "outputs": [
        {
          "output_type": "stream",
          "name": "stdout",
          "text": [
            "| X | Y | Z | X OR(Y AND Z) |\n",
            "| 0 | 0 | 0 | 0             |\n",
            "| 0 | 0 | 1 | 0             |\n",
            "| 0 | 1 | 0 | 0             |\n",
            "| 0 | 1 | 1 | 1             |\n",
            "| 1 | 0 | 0 | 1             |\n",
            "| 1 | 0 | 1 | 1             |\n",
            "| 1 | 1 | 0 | 1             |\n",
            "| 1 | 1 | 1 | 1             |\n"
          ]
        }
      ]
    }
  ]
}